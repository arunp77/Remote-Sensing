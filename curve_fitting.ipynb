{
 "cells": [
  {
   "cell_type": "code",
   "execution_count": 1,
   "metadata": {},
   "outputs": [
    {
     "name": "stdout",
     "output_type": "stream",
     "text": [
      "True Parameters: [2, 1.5]\n",
      "Fitted Parameters: [   2.00745226 1024.98961682]\n"
     ]
    }
   ],
   "source": [
    "import numpy as np\n",
    "from scipy.optimize import minimize\n",
    "\n",
    "# Define your function\n",
    "def my_function(params, x, k2):\n",
    "    A, k1 = params\n",
    "    return A * np.exp(-(k1 - k2) * x)\n",
    "\n",
    "# Define the loss function to minimize (residuals)\n",
    "def loss_function(params, x, y_observed, k2):\n",
    "    y_predicted = my_function(params, x, k2)\n",
    "    return np.sum((y_observed - y_predicted) ** 2)\n",
    "\n",
    "# Generate example data\n",
    "x_data = np.linspace(0, 10, 100)\n",
    "true_params = [2, 1.5]  # Replace with your actual parameters\n",
    "k2_value = 0.5  # Replace with your known parameter\n",
    "y_data_observed = my_function(true_params, x_data, k2_value) + np.random.normal(scale=0.1, size=len(x_data))\n",
    "\n",
    "# Initial parameter guess\n",
    "initial_guess = np.zeros_like(true_params)\n",
    "\n",
    "# Perform fitting using minimize\n",
    "result = minimize(loss_function, initial_guess, args=(x_data, y_data_observed, k2_value))\n",
    "\n",
    "# Fitted parameters\n",
    "fitted_params = result.x\n",
    "\n",
    "print(\"True Parameters:\", true_params)\n",
    "print(\"Fitted Parameters:\", fitted_params)"
   ]
  },
  {
   "cell_type": "code",
   "execution_count": 2,
   "metadata": {},
   "outputs": [
    {
     "name": "stdout",
     "output_type": "stream",
     "text": [
      "Fitted ER: 0.5137069468885733\n",
      "Fitted k_iso: -0.5832387981052756\n"
     ]
    }
   ],
   "source": [
    "import numpy as np\n",
    "import pandas as pd\n",
    "from scipy.optimize import minimize\n",
    "\n",
    "# Function to calculate Isoprene values based on ER and k_iso\n",
    "def calculate_isoprene(params, df, k_acet):\n",
    "    ER, k_iso = params\n",
    "    return ER * np.exp(-(k_iso - k_acet) * df['OH_t'])\n",
    "\n",
    "# Loss function to minimize (residuals)\n",
    "def loss_function(params, df, k_acet):\n",
    "    isoprene_predicted = calculate_isoprene(params, df, k_acet)\n",
    "    return np.sum((df['Isoprene'] - isoprene_predicted) ** 2)\n",
    "\n",
    "# Example DataFrame\n",
    "data = {'Isoprene': [1.2, 2.5, 3.1, 4.0, 5.2],\n",
    "        'Acetylene': [0.5, 0.8, 1.0, 1.2, 1.5],\n",
    "        'OH_t': [2.0, 2.5, 3.0, 3.5, 4.0]}\n",
    "df = pd.DataFrame(data)\n",
    "\n",
    "# Known parameter\n",
    "k_acet = 0.25e-12\n",
    "\n",
    "# Initial parameter guess\n",
    "initial_guess = np.ones(2)\n",
    "\n",
    "# Perform fitting using minimize\n",
    "result = minimize(loss_function, initial_guess, args=(df, k_acet))\n",
    "\n",
    "# Fitted parameters\n",
    "ER, k_iso = result.x\n",
    "\n",
    "print(\"Fitted ER:\", ER)\n",
    "print(\"Fitted k_iso:\", k_iso)\n"
   ]
  },
  {
   "cell_type": "code",
   "execution_count": 3,
   "metadata": {},
   "outputs": [
    {
     "data": {
      "image/png": "[encoded data removed]",
      "text/plain": [
       "<Figure size 640x480 with 1 Axes>"
      ]
     },
     "metadata": {},
     "output_type": "display_data"
    }
   ],
   "source": [
    "import numpy as np\n",
    "import pandas as pd\n",
    "import matplotlib.pyplot as plt\n",
    "from scipy.optimize import minimize\n",
    "\n",
    "# Function to calculate Isoprene values based on ER and k_iso\n",
    "def calculate_isoprene(params, df, k_acet):\n",
    "    ER, k_iso = params\n",
    "    return ER * np.exp(-(k_iso - k_acet) * df['OH_t'])\n",
    "\n",
    "# Loss function to minimize (residuals)\n",
    "def loss_function(params, df, k_acet):\n",
    "    isoprene_predicted = calculate_isoprene(params, df, k_acet)\n",
    "    return np.sum((df['Isoprene'] - isoprene_predicted) ** 2)\n",
    "\n",
    "# Example DataFrame\n",
    "data = {'Isoprene': [1.2, 2.5, 3.1, 4.0, 5.2],\n",
    "        'Acetylene': [0.5, 0.8, 1.0, 1.2, 1.5],\n",
    "        'OH_t': [2.0, 2.5, 3.0, 3.5, 4.0]}\n",
    "df = pd.DataFrame(data)\n",
    "\n",
    "# Known parameter\n",
    "k_acet = 0.25e-12\n",
    "\n",
    "# Initial parameter guess\n",
    "initial_guess = np.ones(2)\n",
    "\n",
    "# Perform fitting using minimize\n",
    "result = minimize(loss_function, initial_guess, args=(df, k_acet))\n",
    "\n",
    "# Fitted parameters\n",
    "ER, k_iso = result.x\n",
    "\n",
    "# Plotting\n",
    "plt.scatter(df['OH_t'], df['Isoprene'], label='Observed Data')\n",
    "plt.plot(df['OH_t'], calculate_isoprene(result.x, df, k_acet), label='Fitted Curve', color='red')\n",
    "plt.xlabel('OH_t')\n",
    "plt.ylabel('Isoprene')\n",
    "plt.legend()\n",
    "plt.show()\n"
   ]
  },
  {
   "cell_type": "code",
   "execution_count": 4,
   "metadata": {},
   "outputs": [
    {
     "ename": "ValueError",
     "evalue": "could not broadcast input array from shape (5,) into shape (2,)",
     "output_type": "error",
     "traceback": [
      "\u001b[1;31m---------------------------------------------------------------------------\u001b[0m",
      "\u001b[1;31mValueError\u001b[0m                                Traceback (most recent call last)",
      "\u001b[1;32mc:\\Users\\hp\\OneDrive\\Desktop\\curve_fitting.ipynb Cell 4\u001b[0m line \u001b[0;36m4\n\u001b[0;32m     <a href='vscode-notebook-cell:/c%3A/Users/hp/OneDrive/Desktop/curve_fitting.ipynb#W3sZmlsZQ%3D%3D?line=44'>45</a>\u001b[0m ER, k_iso \u001b[39m=\u001b[39m result\u001b[39m.\u001b[39mx\n\u001b[0;32m     <a href='vscode-notebook-cell:/c%3A/Users/hp/OneDrive/Desktop/curve_fitting.ipynb#W3sZmlsZQ%3D%3D?line=46'>47</a>\u001b[0m \u001b[39m# Calculate standard errors for the parameters\u001b[39;00m\n\u001b[1;32m---> <a href='vscode-notebook-cell:/c%3A/Users/hp/OneDrive/Desktop/curve_fitting.ipynb#W3sZmlsZQ%3D%3D?line=47'>48</a>\u001b[0m jac \u001b[39m=\u001b[39m calculate_jacobian(result\u001b[39m.\u001b[39;49mx, calculate_isoprene, (df, k_acet))\n\u001b[0;32m     <a href='vscode-notebook-cell:/c%3A/Users/hp/OneDrive/Desktop/curve_fitting.ipynb#W3sZmlsZQ%3D%3D?line=48'>49</a>\u001b[0m cov_matrix \u001b[39m=\u001b[39m np\u001b[39m.\u001b[39mlinalg\u001b[39m.\u001b[39minv(jac\u001b[39m.\u001b[39mT \u001b[39m@\u001b[39m jac)\n\u001b[0;32m     <a href='vscode-notebook-cell:/c%3A/Users/hp/OneDrive/Desktop/curve_fitting.ipynb#W3sZmlsZQ%3D%3D?line=49'>50</a>\u001b[0m std_errors \u001b[39m=\u001b[39m np\u001b[39m.\u001b[39msqrt(np\u001b[39m.\u001b[39mdiag(cov_matrix))\n",
      "\u001b[1;32mc:\\Users\\hp\\OneDrive\\Desktop\\curve_fitting.ipynb Cell 4\u001b[0m line \u001b[0;36m2\n\u001b[0;32m     <a href='vscode-notebook-cell:/c%3A/Users/hp/OneDrive/Desktop/curve_fitting.ipynb#W3sZmlsZQ%3D%3D?line=22'>23</a>\u001b[0m     perturbation \u001b[39m=\u001b[39m np\u001b[39m.\u001b[39mzeros_like(params)\n\u001b[0;32m     <a href='vscode-notebook-cell:/c%3A/Users/hp/OneDrive/Desktop/curve_fitting.ipynb#W3sZmlsZQ%3D%3D?line=23'>24</a>\u001b[0m     perturbation[i] \u001b[39m=\u001b[39m eps \u001b[39m*\u001b[39m (\u001b[39m1\u001b[39m \u001b[39m+\u001b[39m np\u001b[39m.\u001b[39mabs(params[i]))\n\u001b[1;32m---> <a href='vscode-notebook-cell:/c%3A/Users/hp/OneDrive/Desktop/curve_fitting.ipynb#W3sZmlsZQ%3D%3D?line=24'>25</a>\u001b[0m     jac[:, i] \u001b[39m=\u001b[39m (func(params \u001b[39m+\u001b[39m perturbation, \u001b[39m*\u001b[39margs) \u001b[39m-\u001b[39m func(params \u001b[39m-\u001b[39m perturbation, \u001b[39m*\u001b[39margs)) \u001b[39m/\u001b[39m (\u001b[39m2\u001b[39m \u001b[39m*\u001b[39m perturbation[i])\n\u001b[0;32m     <a href='vscode-notebook-cell:/c%3A/Users/hp/OneDrive/Desktop/curve_fitting.ipynb#W3sZmlsZQ%3D%3D?line=26'>27</a>\u001b[0m \u001b[39mreturn\u001b[39;00m jac\n",
      "\u001b[1;31mValueError\u001b[0m: could not broadcast input array from shape (5,) into shape (2,)"
     ]
    }
   ],
   "source": [
    "import numpy as np\n",
    "import pandas as pd\n",
    "import matplotlib.pyplot as plt\n",
    "from scipy.optimize import minimize\n",
    "\n",
    "# Function to calculate Isoprene values based on ER and k_iso\n",
    "def calculate_isoprene(params, df, k_acet):\n",
    "    ER, k_iso = params\n",
    "    return ER * np.exp(-(k_iso - k_acet) * df['OH_t'])\n",
    "\n",
    "# Loss function to minimize (residuals)\n",
    "def loss_function(params, df, k_acet):\n",
    "    isoprene_predicted = calculate_isoprene(params, df, k_acet)\n",
    "    return np.sum((df['Isoprene'] - isoprene_predicted) ** 2)\n",
    "\n",
    "# Jacobian matrix calculation for standard errors\n",
    "def calculate_jacobian(params, func, args):\n",
    "    eps = 1e-8\n",
    "    n = len(params)\n",
    "    jac = np.zeros((len(args), n))\n",
    "    \n",
    "    for i in range(n):\n",
    "        perturbation = np.zeros_like(params)\n",
    "        perturbation[i] = eps * (1 + np.abs(params[i]))\n",
    "        jac[:, i] = (func(params + perturbation, *args) - func(params - perturbation, *args)) / (2 * perturbation[i])\n",
    "    \n",
    "    return jac\n",
    "\n",
    "# Example DataFrame\n",
    "data = {'Isoprene': [1.2, 2.5, 3.1, 4.0, 5.2],\n",
    "        'Acetylene': [0.5, 0.8, 1.0, 1.2, 1.5],\n",
    "        'OH_t': [2.0, 2.5, 3.0, 3.5, 4.0]}\n",
    "df = pd.DataFrame(data)\n",
    "\n",
    "# Known parameter\n",
    "k_acet = 0.25e-12\n",
    "\n",
    "# Initial parameter guess\n",
    "initial_guess = np.ones(2)\n",
    "\n",
    "# Perform fitting using minimize with 'Nelder-Mead' method\n",
    "result = minimize(loss_function, initial_guess, args=(df, k_acet), method='Nelder-Mead')\n",
    "\n",
    "# Fitted parameters\n",
    "ER, k_iso = result.x\n",
    "\n",
    "# Calculate standard errors for the parameters\n",
    "jac = calculate_jacobian(result.x, calculate_isoprene, (df, k_acet))\n",
    "cov_matrix = np.linalg.inv(jac.T @ jac)\n",
    "std_errors = np.sqrt(np.diag(cov_matrix))\n",
    "\n",
    "# Print results\n",
    "print(\"Fitted ER:\", ER)\n",
    "print(\"Standard Error for ER:\", std_errors[0])\n",
    "print(\"Fitted k_iso:\", k_iso)\n",
    "print(\"Standard Error for k_iso:\", std_errors[1])\n",
    "\n",
    "# Plotting\n",
    "plt.scatter(df['OH_t'], df['Isoprene'], label='Observed Data')\n",
    "plt.plot(df['OH_t'], calculate_isoprene(result.x, df, k_acet), label='Fitted Curve', color='red')\n",
    "plt.xlabel('OH_t')\n",
    "plt.ylabel('Isoprene')\n",
    "plt.legend()\n",
    "plt.show()\n"
   ]
  },
  {
   "cell_type": "code",
   "execution_count": null,
   "metadata": {},
   "outputs": [],
   "source": []
  }
 ],
 "metadata": {
  "kernelspec": {
   "display_name": "Python 3",
   "language": "python",
   "name": "python3"
  },
  "language_info": {
   "codemirror_mode": {
    "name": "ipython",
    "version": 3
   },
   "file_extension": ".py",
   "mimetype": "text/x-python",
   "name": "python",
   "nbconvert_exporter": "python",
   "pygments_lexer": "ipython3",
   "version": "3.12.0"
  }
 },
 "nbformat": 4,
 "nbformat_minor": 2
}
