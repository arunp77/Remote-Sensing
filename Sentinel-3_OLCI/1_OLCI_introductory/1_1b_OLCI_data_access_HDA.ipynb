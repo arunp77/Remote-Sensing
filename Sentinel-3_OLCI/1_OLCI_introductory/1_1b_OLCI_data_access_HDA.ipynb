{
 "cells": [
  {
   "cell_type": "markdown",
   "metadata": {},
   "source": [
    "<img src='https://gitlab.eumetsat.int/eumetlab/oceans/ocean-training/tools/frameworks/-/raw/main/img/Standard_banner.png' align='right' width='100%'/>"
   ]
  },
  {
   "cell_type": "markdown",
   "metadata": {},
   "source": [
    "<a href=\"../Index.ipynb\" target=\"_blank\"><< Index</a>\n",
    "<br>\n",
    "<a href=\"./1_2_OLCI_file_structure.ipynb\" target=\"_blank\">Understanding OLCI product structure >></a>"
   ]
  },
  {
   "cell_type": "markdown",
   "metadata": {},
   "source": [
    "<font color=\"#138D75\">**Copernicus Marine Training Service**</font> <br>\n",
    "**Copyright:** 2023 EUMETSAT <br>\n",
    "**License:** MIT"
   ]
  },
  {
   "cell_type": "markdown",
   "metadata": {},
   "source": [
    "<div class=\"alert alert-block alert-success\">\n",
    "<h3>Learn OLCI: Introductory</h3></div>"
   ]
  },
  {
   "cell_type": "markdown",
   "metadata": {},
   "source": [
    "<div class=\"alert alert-block alert-warning\">\n",
    "    \n",
    "<b>PREREQUISITES </b>\n",
    "    \n",
    "This notebook has the following prerequisites:\n",
    "  - **<a href=\"https://my.wekeo.eu/user-registration\" target=\"_blank\">A WEkEO account</a>** if you are using or plan to use WEkEO.\n",
    "\n",
    "There are no prerequisite notebooks for this module.\n",
    "</div>\n",
    "<hr>"
   ]
  },
  {
   "cell_type": "markdown",
   "metadata": {},
   "source": [
    "# 1.1b Accessing OLCI data via the WEkEO HDA adaptor\n",
    "\n",
    "### Data used\n",
    "\n",
    "| Product Description  | WEkEO HDA ID | WEkEO metadata |\n",
    "|:--------------------:|:-------------:|:-----------------:|\n",
    "| Sentinel-3 OLCI level-1B Full resolution | EO:EUM:DAT:SENTINEL-3:OL_1_EFR___ | <a href=\"https://www.wekeo.eu/data?view=dataset&dataset=EO%3AEUM%3ADAT%3ASENTINEL-3%3AOL_1_EFR___\" target=\"_blank\">link</a> |\n",
    "| Sentinel-3 OLCI level-2 full resolution  | EO:EUM:DAT:SENTINEL-3:OL_2_WFR___ | <a href=\"https://www.wekeo.eu/data?view=dataset&dataset=EO%3AEUM%3ADAT%3ASENTINEL-3%3AOL_2_WFR___\" target=\"_blank\">link</a> |\n",
    "| Sentinel-3 OLCI level-2 reduced resolution | EO:EUM:DAT:SENTINEL-3:OL_2_WRR___ | <a href=\"https://www.wekeo.eu/data?view=dataset&dataset=EO%3AEUM%3ADAT%3ASENTINEL-3%3AOL_2_WRR___\" target=\"_blank\">link</a> |\n",
    "\n",
    "### Learning outcomes\n",
    "\n",
    "At the end of this notebook you will know;\n",
    "* how to download data from WEkEO using the <font color=\"#138D75\">**harmonised data access (hda)**</font> client\n",
    "\n",
    "### Outline\n",
    "\n",
    "Data from OLCI is available through multiple sources, either via a web user interface (WebUI) or through code and command line interfaces with an Application Programming Interface (API). WebUIs are useful for accessing quick-look data visualisations, and for browsing to see what is available. APIs are more useful for routine, automated and operational data access. Here we will guide you through ways you can access OLCI data through both methods.\n",
    "\n",
    "Users should note that this notebook will use WEkEO [harmonised data access (HDA) API](#section3) to download <font color=\"#138D75\">**all**</font> of the products required for the lessons in the OLCI introductory module. The HDA adaptor is the fastest and most suitable way of retrieving OLCI data when working inside the WEkEO infrastructure, either on the JupyterHub or on virtual machines.\n",
    "\n",
    "<div class=\"alert alert-info\" role=\"alert\">\n",
    "\n",
    "## <a id='TOC_TOP'></a>Contents\n",
    "\n",
    "</div>\n",
    "    \n",
    " 1. [Download data via GUIs](#section1)\n",
    " 1. [The products we need](#section2)\n",
    " 1. [Downloading via the WEkEO API](#section3)\n",
    " \n",
    "<hr>"
   ]
  },
  {
   "cell_type": "markdown",
   "metadata": {},
   "source": [
    "We begin by importing all of the libraries that we need to run this notebook. If you have built your python using the environment file provided in this repository, then you should have everything you need. For more information on building environment, please see the repository **<a href=\"../README.md\" target=\"_blank\">README</a>**."
   ]
  },
  {
   "cell_type": "code",
   "execution_count": 6,
   "metadata": {},
   "outputs": [],
   "source": [
    "import configparser # a library that allows us to parse standard configuration files\n",
    "import IPython      # a library that helps us display video and HTML content\n",
    "import os           # a library that allows us access to basic operating system commands like making directories\n",
    "import json         # a library that helps us make JSON format files\n",
    "import shutil       # a library that allows us access to basic operating system commands like copy\n",
    "import zipfile      # a library that allows us to unzip zip-files.\n",
    "import hda          # a library for downloading via wekeo "
   ]
  },
  {
   "cell_type": "markdown",
   "metadata": {},
   "source": [
    "Sometimes we use configuration files to help us set some notebook parameters. The box below reads a configuration file to help us decide how large to make the videos displayed below."
   ]
  },
  {
   "cell_type": "code",
   "execution_count": 7,
   "metadata": {},
   "outputs": [],
   "source": [
    "# set defaults and overwrite with frameworks config if it exists\n",
    "config = configparser.ConfigParser()\n",
    "config[\"nbook\"] = {\"v_wd\" : \"700\", \"v_ht\" : \"450\"}\n",
    "if os.path.exists(os.path.join(os.path.dirname(os.getcwd()),\"frameworks\",\"config.ini\")):\n",
    "    config.read(os.path.join(os.path.dirname(os.getcwd()),\"frameworks\",\"config.ini\"))"
   ]
  },
  {
   "cell_type": "markdown",
   "metadata": {},
   "source": [
    "Next we will create a download directory to store the products we will download in this notebook."
   ]
  },
  {
   "cell_type": "code",
   "execution_count": 27,
   "metadata": {},
   "outputs": [],
   "source": [
    "# Create a download directory for our OLCI products\n",
    "download_dir = os.path.join(os.getcwd(), \"products\")\n",
    "os.makedirs(download_dir, exist_ok=True) "
   ]
  },
  {
   "cell_type": "markdown",
   "metadata": {},
   "source": [
    "<div class=\"alert alert-info\" role=\"alert\">\n",
    "\n",
    "## <a id='section1'></a>1. Downloading data via GUIs\n",
    "[Back to top](#TOC_TOP)\n",
    "\n",
    "</div>"
   ]
  },
  {
   "cell_type": "markdown",
   "metadata": {},
   "source": [
    "<hr>\n",
    "\n",
    "### WEkEO\n",
    "\n",
    "WEkEO is the Copernicus Data Information and Access Service (DIAS) reference service for environmental data. It is a partnership between EUMETSAT, the European Centre for Medium-range Weather Forecasting (ECMWF), Mercator Ocean International, and the European Environment Agency (EEA). You can see an overview of the WEkEO service offering in the video below. WEkEO offers a harmonised data access (HDA) solution to a wide range of Copernicus data, including that from Sentinel-3 and associated down-stream products from the Copernicus Marine Service. The WEkEO HDA can be accessed via the <a href=\"https://www.wekeo.eu/data\" target=\"_blank\">WEkEO Data Viewer</a> and through an API, see [Downloading from WEkEO via the API](#section4).\n",
    "\n",
    "You can visit the <a href=\"https://www.wekeo.eu/data\" target=\"_blank\">WEkEO Data Viewer</a> and explore the available marine data, however this notebook will also show you how to use the HDA API - see [Downloading from WEkEO via the API](#section4) below.\n",
    "\n",
    "#### Links:\n",
    "* <a href=\"https://www.wekeo.eu/data\" target=\"_blank\">WEkEO Data Viewer</a>\n",
    "* <a href=\"https://www.wekeo.eu/docs\" target=\"_blank\">More information on WEkEO</a>"
   ]
  },
  {
   "cell_type": "code",
   "execution_count": 9,
   "metadata": {},
   "outputs": [
    {
     "data": {
      "image/jpeg": "[encoded data removed]",
      "text/html": [
       "\n",
       "        <iframe\n",
       "            width=\"800\"\n",
       "            height=\"450\"\n",
       "            src=\"https://www.youtube.com/embed/UOexmq1LdyY\"\n",
       "            frameborder=\"0\"\n",
       "            allowfullscreen\n",
       "            \n",
       "        ></iframe>\n",
       "        "
      ],
      "text/plain": [
       "<IPython.lib.display.YouTubeVideo at 0x16528c3c0d0>"
      ]
     },
     "execution_count": 9,
     "metadata": {},
     "output_type": "execute_result"
    }
   ],
   "source": [
    "IPython.display.YouTubeVideo('UOexmq1LdyY', width=config[\"nbook\"][\"v_wd\"], height=config[\"nbook\"][\"v_ht\"])"
   ]
  },
  {
   "cell_type": "markdown",
   "metadata": {},
   "source": [
    "<div class=\"alert alert-info\" role=\"alert\">\n",
    "\n",
    "## 2. <a id='section2'></a>The products we need for this module\n",
    "[Back to top](#TOC_TOP)\n",
    "    \n",
    "</div>"
   ]
  },
  {
   "cell_type": "markdown",
   "metadata": {},
   "source": [
    "We need a number of OLCI level-1 and level-2 products for the notebooks within the introductory part of the learn-sral module. These products are shown below, and we will retrieve these products from the WEkEO product catalogue.\n",
    "* S3A_OL_1_EFR____20210717T101015_20210717T101315_20210718T145224_0179_074_122_1980_MAR_O_NT_002.SEN3\n",
    "* S3A_OL_2_WRR____20210717T095732_20210717T104152_20210718T152419_2660_074_122______MAR_O_NT_003.SEN3\n",
    "* S3A_OL_2_WFR____20210717T101015_20210717T101315_20210718T221347_0179_074_122_1980_MAR_O_NT_003.SEN3"
   ]
  },
  {
   "cell_type": "markdown",
   "metadata": {},
   "source": [
    "<hr>\n",
    "<div class=\"alert alert-info\" role=\"alert\">\n",
    "\n",
    "## 3. <a id='section3'></a>Downloading from WEkEO via the API\n",
    "[Back to top](#TOC_TOP)\n",
    "\n",
    "</div>\n"
   ]
  },
  {
   "cell_type": "markdown",
   "metadata": {},
   "source": [
    "Downloading from WEkEO harmonised data access (HDA) API is facilitated by another data access client. \n",
    "If you are currently working on the WEkEO JupyterHub, this client will already be installed. Otherwise, as with EUMDAC, if you have followed the installation guidelines in the yml file provided with this repository, you will also have the client installed. If not, you can find the source code <a href=\"https://github.com/ecmwf/hda\" target=\"_blank\">here</a>.\n",
    "\n",
    "In order to allow us to download data using the WEkEO HDA API, we need to provide our credentials. To do this, we need to create a file called `.hdarc` in our home directory. For most computer systems the home directory can be found at the path \\user\\username, /users/username, or /home/username depending on your operating system. In this file we need to add the following information exactly as follows;\n",
    "\n",
    "```\n",
    "url: https://wekeo-broker.apps.mercator.dpi.wekeo.eu/databroker\n",
    "user: <your_user_name>\n",
    "password: <your_password>\n",
    "```\n",
    "\n",
    "You must replace `<your_user_name>` and `<your_password>` with the information from your WEkEO account (if you don't have one yet, register <a href=\"https://www.wekeo.eu/\" target=\"_blank\">here</a>. Once you have entered these credentials in the file, the `hda` client will automatically read in the credentials from the file when you use it.\n",
    "\n",
    "To begin, we should establish an instance of the client."
   ]
  },
  {
   "cell_type": "code",
   "execution_count": 13,
   "metadata": {},
   "outputs": [],
   "source": [
    "c = hda.Client()"
   ]
  },
  {
   "cell_type": "markdown",
   "metadata": {},
   "source": [
    "The WEkEO HDA client accepts requests as JSON queries. These have a specific format, which may look complex, but you can build on the examples you can find in the GUI, available under the **Show API request** button;\n",
    "\n",
    "<img src='../img/WEkEO_show_api_OLCI.png' align='centre' width='75%'></img>\n"
   ]
  },
  {
   "cell_type": "markdown",
   "metadata": {},
   "source": [
    "WEkEO allows you to search for data in time and space, but not by product name. However, we can work around this by providing the exact time stamps for our data. Below, we have a query for the first item in our product list, the OLCI level 1B product. You can see that the start and end times match the filename times, and the `producttype`, and `timeliness` correspond to those in the earlier specified filename too."
   ]
  },
  {
   "cell_type": "code",
   "execution_count": 14,
   "metadata": {},
   "outputs": [],
   "source": [
    "query = {\n",
    "  \"datasetId\": \"EO:EUM:DAT:SENTINEL-3:OL_1_EFR___\",\n",
    "  \"dateRangeSelectValues\": [\n",
    "    {\n",
    "      \"name\": \"position\",\n",
    "      \"start\": \"2021-07-17T10:10:15.000Z\",\n",
    "      \"end\": \"2021-07-17T10:10:16.000Z\"\n",
    "    }\n",
    "  ],\n",
    "  \"stringChoiceValues\": [{\"name\": \"producttype\", \"value\": \"OL_1_EFR___\"},\n",
    "                         {\"name\": \"timeliness\", \"value\": \"NT\"},\n",
    "                         {\"name\": \"relorbit\", \"value\": \"122\"}\n",
    "  ]\n",
    "}"
   ]
  },
  {
   "cell_type": "markdown",
   "metadata": {},
   "source": [
    "This next section of code prints the names of the files that have been found during the search..."
   ]
  },
  {
   "cell_type": "code",
   "execution_count": 16,
   "metadata": {},
   "outputs": [],
   "source": [
    "matches = c.search(query)"
   ]
  },
  {
   "cell_type": "code",
   "execution_count": 17,
   "metadata": {},
   "outputs": [
    {
     "data": {
      "text/plain": [
       "SearchResults[items=1,volume=592.3MB]"
      ]
     },
     "execution_count": 17,
     "metadata": {},
     "output_type": "execute_result"
    }
   ],
   "source": [
    "matches"
   ]
  },
  {
   "cell_type": "code",
   "execution_count": 19,
   "metadata": {},
   "outputs": [
    {
     "name": "stdout",
     "output_type": "stream",
     "text": [
      "{'type': 'Feature', 'geometry': {'type': 'Polygon', 'coordinates': [[[-6.44339, 52.4521], [-5.4357, 52.3907], [-4.42746, 52.321], [-3.41508, 52.242], [-2.42012, 52.1557], [-1.42119, 52.0603], [-0.428498, 51.9566], [0.557671, 51.845], [1.5392, 51.7247], [2.51821, 51.5959], [3.49333, 51.4638], [4.45652, 51.3193], [5.42039, 51.1687], [6.37143, 51.0058], [7.31849, 50.8378], [8.25586, 50.66], [9.18581, 50.4787], [10.1114, 50.2883], [11.0311, 50.0903], [11.9406, 49.8854], [13.4228, 52.4295], [15.0776, 54.9643], [16.941, 57.4738], [19.0613, 59.9556], [17.9294, 60.211], [16.7781, 60.4567], [15.6132, 60.6917], [14.429, 60.9156], [13.234, 61.1321], [12.0202, 61.3356], [10.7904, 61.5312], [9.5401, 61.711], [8.28209, 61.8812], [7.00654, 62.0352], [5.71343, 62.1827], [4.42126, 62.3168], [3.11204, 62.4389], [1.79136, 62.5489], [0.460402, 62.6464], [-0.871684, 62.7308], [-2.22035, 62.803], [-3.56977, 62.8621], [-4.9253, 62.9088], [-5.29393, 60.2944], [-5.67151, 57.6796], [-6.05371, 55.0622], [-6.44339, 52.4521]]]}, 'properties': {'startdate': '2021-07-17T10:10:14Z', 'enddate': '2021-07-17T10:13:14Z', 'location': 'https://api.eumetsat.int/data/download/1.0.0/collections/EO%3AEUM%3ADAT%3A0409/products/S3A_OL_1_EFR____20210717T101015_20210717T101315_20210718T145224_0179_074_122_1980_MAR_O_NT_002.SEN3', 'size': 621084000, 'dataprovider': 'Eumetsat', 'md5': 'd17468c4e0638b5bcc125cc89f81e581'}, 'id': 'S3A_OL_1_EFR____20210717T101015_20210717T101315_20210718T145224_0179_074_122_1980_MAR_O_NT_002.SEN3', 'bbox': [-6.44339, 49.8854, 19.0613, 62.9088]}\n"
     ]
    }
   ],
   "source": [
    "for match in matches.results:\n",
    "    print(match)\n",
    "    break  # Print only the first match to inspect its structure"
   ]
  },
  {
   "cell_type": "code",
   "execution_count": 28,
   "metadata": {},
   "outputs": [
    {
     "name": "stdout",
     "output_type": "stream",
     "text": [
      "{'type': 'Feature', 'geometry': {'type': 'Polygon', 'coordinates': [[[-6.44339, 52.4521], [-5.4357, 52.3907], [-4.42746, 52.321], [-3.41508, 52.242], [-2.42012, 52.1557], [-1.42119, 52.0603], [-0.428498, 51.9566], [0.557671, 51.845], [1.5392, 51.7247], [2.51821, 51.5959], [3.49333, 51.4638], [4.45652, 51.3193], [5.42039, 51.1687], [6.37143, 51.0058], [7.31849, 50.8378], [8.25586, 50.66], [9.18581, 50.4787], [10.1114, 50.2883], [11.0311, 50.0903], [11.9406, 49.8854], [13.4228, 52.4295], [15.0776, 54.9643], [16.941, 57.4738], [19.0613, 59.9556], [17.9294, 60.211], [16.7781, 60.4567], [15.6132, 60.6917], [14.429, 60.9156], [13.234, 61.1321], [12.0202, 61.3356], [10.7904, 61.5312], [9.5401, 61.711], [8.28209, 61.8812], [7.00654, 62.0352], [5.71343, 62.1827], [4.42126, 62.3168], [3.11204, 62.4389], [1.79136, 62.5489], [0.460402, 62.6464], [-0.871684, 62.7308], [-2.22035, 62.803], [-3.56977, 62.8621], [-4.9253, 62.9088], [-5.29393, 60.2944], [-5.67151, 57.6796], [-6.05371, 55.0622], [-6.44339, 52.4521]]]}, 'properties': {'startdate': '2021-07-17T10:10:14Z', 'enddate': '2021-07-17T10:13:14Z', 'location': 'https://api.eumetsat.int/data/download/1.0.0/collections/EO%3AEUM%3ADAT%3A0409/products/S3A_OL_1_EFR____20210717T101015_20210717T101315_20210718T145224_0179_074_122_1980_MAR_O_NT_002.SEN3', 'size': 621084000, 'dataprovider': 'Eumetsat', 'md5': 'd17468c4e0638b5bcc125cc89f81e581'}, 'id': 'S3A_OL_1_EFR____20210717T101015_20210717T101315_20210718T145224_0179_074_122_1980_MAR_O_NT_002.SEN3', 'bbox': [-6.44339, 49.8854, 19.0613, 62.9088]}\n",
      "Found: S3A_OL_1_EFR____20210717T101015_20210717T101315_20210718T145224_0179_074_122_1980_MAR_O_NT_002.SEN3\n"
     ]
    }
   ],
   "source": [
    "import hda\n",
    "\n",
    "c = hda.Client()\n",
    "\n",
    "query = {\n",
    "  \"datasetId\": \"EO:EUM:DAT:SENTINEL-3:OL_1_EFR___\",\n",
    "  \"dateRangeSelectValues\": [\n",
    "    {\n",
    "      \"name\": \"position\",\n",
    "      \"start\": \"2021-07-17T10:10:15.000Z\",\n",
    "      \"end\": \"2021-07-17T10:10:16.000Z\"\n",
    "    }\n",
    "  ],\n",
    "  \"stringChoiceValues\": [\n",
    "    {\"name\": \"producttype\", \"value\": \"OL_1_EFR___\"},\n",
    "    {\"name\": \"timeliness\", \"value\": \"NT\"},\n",
    "    {\"name\": \"relorbit\", \"value\": \"122\"}\n",
    "  ]\n",
    "}\n",
    "\n",
    "matches = c.search(query)\n",
    "\n",
    "# Inspect the structure of the first match\n",
    "for match in matches.results:\n",
    "    print(match)\n",
    "    break  # Only inspect the first match\n",
    "\n",
    "# Extract and print the filenames using the correct key\n",
    "for match in matches.results:\n",
    "    fdst = match['id']  # The correct key for filename\n",
    "    print(f\"Found: {fdst}\")\n"
   ]
  },
  {
   "cell_type": "code",
   "execution_count": 21,
   "metadata": {},
   "outputs": [
    {
     "ename": "KeyError",
     "evalue": "'filename'",
     "output_type": "error",
     "traceback": [
      "\u001b[1;31m---------------------------------------------------------------------------\u001b[0m",
      "\u001b[1;31mKeyError\u001b[0m                                  Traceback (most recent call last)",
      "Cell \u001b[1;32mIn[21], line 2\u001b[0m\n\u001b[0;32m      1\u001b[0m \u001b[38;5;28;01mfor\u001b[39;00m match \u001b[38;5;129;01min\u001b[39;00m matches\u001b[38;5;241m.\u001b[39mresults:\n\u001b[1;32m----> 2\u001b[0m     fdst \u001b[38;5;241m=\u001b[39m \u001b[43mmatch\u001b[49m\u001b[43m[\u001b[49m\u001b[38;5;124;43m'\u001b[39;49m\u001b[38;5;124;43mfilename\u001b[39;49m\u001b[38;5;124;43m'\u001b[39;49m\u001b[43m]\u001b[49m\n\u001b[0;32m      3\u001b[0m     \u001b[38;5;28mprint\u001b[39m(\u001b[38;5;124mf\u001b[39m\u001b[38;5;124m\"\u001b[39m\u001b[38;5;124mFound: \u001b[39m\u001b[38;5;132;01m{\u001b[39;00mfdst\u001b[38;5;132;01m}\u001b[39;00m\u001b[38;5;124m\"\u001b[39m)\n",
      "\u001b[1;31mKeyError\u001b[0m: 'filename'"
     ]
    }
   ],
   "source": [
    "for match in matches.results:\n",
    "    fdst = match['filename']\n",
    "    print(f\"Found: {fdst}\")"
   ]
  },
  {
   "cell_type": "markdown",
   "metadata": {},
   "source": [
    "We can see that we have found the file we are interested in, so the next section of code can be used to download it..."
   ]
  },
  {
   "cell_type": "code",
   "execution_count": 22,
   "metadata": {},
   "outputs": [
    {
     "name": "stderr",
     "output_type": "stream",
     "text": [
      "                                                   \r"
     ]
    }
   ],
   "source": [
    "matches.download()"
   ]
  },
  {
   "cell_type": "markdown",
   "metadata": {},
   "source": [
    "Finally, we can unzip the file."
   ]
  },
  {
   "cell_type": "code",
   "execution_count": 26,
   "metadata": {},
   "outputs": [
    {
     "ename": "FileNotFoundError",
     "evalue": "[Errno 2] No such file or directory: 'S3A_OL_1_EFR____20210717T101015_20210717T101315_20210718T145224_0179_074_122_1980_MAR_O_NT_002.SEN3'",
     "output_type": "error",
     "traceback": [
      "\u001b[1;31m---------------------------------------------------------------------------\u001b[0m",
      "\u001b[1;31mFileNotFoundError\u001b[0m                         Traceback (most recent call last)",
      "Cell \u001b[1;32mIn[26], line 1\u001b[0m\n\u001b[1;32m----> 1\u001b[0m \u001b[38;5;28;01mwith\u001b[39;00m \u001b[43mzipfile\u001b[49m\u001b[38;5;241;43m.\u001b[39;49m\u001b[43mZipFile\u001b[49m\u001b[43m(\u001b[49m\u001b[43mfdst\u001b[49m\u001b[43m,\u001b[49m\u001b[43m \u001b[49m\u001b[38;5;124;43m'\u001b[39;49m\u001b[38;5;124;43mr\u001b[39;49m\u001b[38;5;124;43m'\u001b[39;49m\u001b[43m)\u001b[49m \u001b[38;5;28;01mas\u001b[39;00m zip_ref:\n\u001b[0;32m      2\u001b[0m     zip_ref\u001b[38;5;241m.\u001b[39mextractall(download_dir)\n\u001b[0;32m      3\u001b[0m     \u001b[38;5;28mprint\u001b[39m(\u001b[38;5;124mf\u001b[39m\u001b[38;5;124m'\u001b[39m\u001b[38;5;124mUnzipping of product \u001b[39m\u001b[38;5;132;01m{\u001b[39;00mfdst\u001b[38;5;132;01m}\u001b[39;00m\u001b[38;5;124m finished.\u001b[39m\u001b[38;5;124m'\u001b[39m)\n",
      "File \u001b[1;32mC:\\Program Files\\WindowsApps\\PythonSoftwareFoundation.Python.3.11_3.11.2544.0_x64__qbz5n2kfra8p0\\Lib\\zipfile.py:1294\u001b[0m, in \u001b[0;36mZipFile.__init__\u001b[1;34m(self, file, mode, compression, allowZip64, compresslevel, strict_timestamps, metadata_encoding)\u001b[0m\n\u001b[0;32m   1292\u001b[0m \u001b[38;5;28;01mwhile\u001b[39;00m \u001b[38;5;28;01mTrue\u001b[39;00m:\n\u001b[0;32m   1293\u001b[0m     \u001b[38;5;28;01mtry\u001b[39;00m:\n\u001b[1;32m-> 1294\u001b[0m         \u001b[38;5;28mself\u001b[39m\u001b[38;5;241m.\u001b[39mfp \u001b[38;5;241m=\u001b[39m \u001b[43mio\u001b[49m\u001b[38;5;241;43m.\u001b[39;49m\u001b[43mopen\u001b[49m\u001b[43m(\u001b[49m\u001b[43mfile\u001b[49m\u001b[43m,\u001b[49m\u001b[43m \u001b[49m\u001b[43mfilemode\u001b[49m\u001b[43m)\u001b[49m\n\u001b[0;32m   1295\u001b[0m     \u001b[38;5;28;01mexcept\u001b[39;00m \u001b[38;5;167;01mOSError\u001b[39;00m:\n\u001b[0;32m   1296\u001b[0m         \u001b[38;5;28;01mif\u001b[39;00m filemode \u001b[38;5;129;01min\u001b[39;00m modeDict:\n",
      "\u001b[1;31mFileNotFoundError\u001b[0m: [Errno 2] No such file or directory: 'S3A_OL_1_EFR____20210717T101015_20210717T101315_20210718T145224_0179_074_122_1980_MAR_O_NT_002.SEN3'"
     ]
    }
   ],
   "source": [
    "with zipfile.ZipFile(fdst, 'r') as zip_ref:\n",
    "    zip_ref.extractall(download_dir)\n",
    "    print(f'Unzipping of product {fdst} finished.')\n",
    "os.remove(fdst)"
   ]
  },
  {
   "cell_type": "markdown",
   "metadata": {},
   "source": [
    "Now lets download our other two products. We will need to set up query files for both."
   ]
  },
  {
   "cell_type": "code",
   "execution_count": null,
   "metadata": {},
   "outputs": [],
   "source": [
    "query_WRR = {\n",
    "  \"datasetId\": \"EO:EUM:DAT:SENTINEL-3:OL_2_WRR___\",\n",
    "  \"dateRangeSelectValues\": [{\"name\": \"position\", \"start\": \"2021-07-17T09:57:32.000Z\", \"end\": \"2021-07-17T09:57:33.000Z\"}],\n",
    "  \"stringChoiceValues\": [{\"name\": \"producttype\", \"value\": \"OL_2_WRR___\"}, {\"name\": \"timeliness\", \"value\": \"NT\"}, {\"name\": \"relorbit\", \"value\": \"122\"}]\n",
    "}\n",
    "\n",
    "query_WFR = {\n",
    "  \"datasetId\": \"EO:EUM:DAT:SENTINEL-3:OL_2_WFR___\",\n",
    "  \"dateRangeSelectValues\": [{\"name\": \"position\", \"start\": \"2021-07-17T10:10:15.000Z\", \"end\": \"2021-07-17T10:10:16.000Z\"}],\n",
    "  \"stringChoiceValues\": [{\"name\": \"producttype\", \"value\": \"OL_2_WFR___\"}, {\"name\": \"timeliness\", \"value\": \"NT\"}, {\"name\": \"relorbit\", \"value\": \"122\"}]\n",
    "}\n",
    "\n",
    "queries = [query_WRR, query_WFR]"
   ]
  },
  {
   "cell_type": "markdown",
   "metadata": {},
   "source": [
    "And again we can search for, and download the results..."
   ]
  },
  {
   "cell_type": "code",
   "execution_count": 11,
   "metadata": {},
   "outputs": [
    {
     "name": "stderr",
     "output_type": "stream",
     "text": [
      "\n",
      "  0%|                                                                                                                                                                                                                              | 0.00/332M [00:00<?, ?B/s]\u001b[A\n",
      "  0%|▎                                                                                                                                                                                                                     | 445k/332M [00:00<01:26, 4.03MB/s]\u001b[A\n",
      "  1%|█▊                                                                                                                                                                                                                   | 2.73M/332M [00:00<00:22, 15.2MB/s]\u001b[A\n",
      "  2%|███▏                                                                                                                                                                                                                 | 5.00M/332M [00:00<00:22, 15.2MB/s]\u001b[A\n",
      "  2%|████▏                                                                                                                                                                                                                | 6.48M/332M [00:00<00:23, 14.4MB/s]\u001b[A\n",
      "  2%|█████                                                                                                                                                                                                                | 7.87M/332M [00:00<00:24, 13.9MB/s]\u001b[A\n",
      "  3%|██████▋                                                                                                                                                                                                              | 10.4M/332M [00:00<00:19, 17.7MB/s]\u001b[A\n",
      "  4%|████████                                                                                                                                                                                                             | 12.6M/332M [00:00<00:17, 18.8MB/s]\u001b[A\n",
      "  5%|█████████▊                                                                                                                                                                                                           | 15.4M/332M [00:00<00:15, 21.8MB/s]\u001b[A\n",
      "  6%|███████████▉                                                                                                                                                                                                         | 18.6M/332M [00:01<00:12, 25.3MB/s]\u001b[A\n",
      "  6%|█████████████▋                                                                                                                                                                                                       | 21.3M/332M [00:01<00:12, 26.2MB/s]\u001b[A\n",
      "  7%|███████████████▍                                                                                                                                                                                                     | 24.0M/332M [00:01<00:12, 26.8MB/s]\u001b[A\n",
      "  8%|█████████████████                                                                                                                                                                                                    | 26.7M/332M [00:01<00:11, 27.0MB/s]\u001b[A\n",
      "  9%|██████████████████▊                                                                                                                                                                                                  | 29.3M/332M [00:01<00:11, 27.0MB/s]\u001b[A\n",
      " 10%|████████████████████▌                                                                                                                                                                                                | 32.0M/332M [00:01<00:11, 27.3MB/s]\u001b[A\n",
      " 10%|██████████████████████▏                                                                                                                                                                                              | 34.7M/332M [00:01<00:11, 27.7MB/s]\u001b[A\n",
      " 11%|████████████████████████                                                                                                                                                                                             | 37.6M/332M [00:01<00:10, 28.3MB/s]\u001b[A\n",
      " 12%|█████████████████████████▊                                                                                                                                                                                           | 40.3M/332M [00:01<00:11, 27.7MB/s]\u001b[A\n",
      " 13%|███████████████████████████▌                                                                                                                                                                                         | 42.9M/332M [00:01<00:11, 27.2MB/s]\u001b[A\n",
      " 14%|█████████████████████████████▎                                                                                                                                                                                       | 45.6M/332M [00:02<00:10, 27.5MB/s]\u001b[A\n",
      " 15%|██████████████████████████████▉                                                                                                                                                                                      | 48.3M/332M [00:02<00:11, 25.9MB/s]\u001b[A\n",
      " 15%|████████████████████████████████▌                                                                                                                                                                                    | 50.7M/332M [00:02<00:13, 21.5MB/s]\u001b[A\n",
      " 16%|█████████████████████████████████▉                                                                                                                                                                                   | 52.9M/332M [00:02<00:20, 14.6MB/s]\u001b[A\n",
      " 16%|███████████████████████████████████                                                                                                                                                                                  | 54.7M/332M [00:02<00:19, 15.2MB/s]\u001b[A\n",
      " 17%|████████████████████████████████████▌                                                                                                                                                                                | 57.0M/332M [00:02<00:16, 17.2MB/s]\u001b[A\n",
      " 18%|██████████████████████████████████████▎                                                                                                                                                                              | 59.8M/332M [00:02<00:14, 19.9MB/s]\u001b[A\n",
      " 19%|███████████████████████████████████████▊                                                                                                                                                                             | 62.1M/332M [00:03<00:13, 21.0MB/s]\u001b[A\n",
      " 20%|█████████████████████████████████████████▋                                                                                                                                                                           | 65.0M/332M [00:03<00:12, 23.3MB/s]\u001b[A\n",
      " 21%|████████████████████████████████████████████                                                                                                                                                                         | 68.7M/332M [00:03<00:09, 27.6MB/s]\u001b[A\n",
      " 22%|█████████████████████████████████████████████▊                                                                                                                                                                       | 71.5M/332M [00:03<00:09, 28.0MB/s]\u001b[A\n",
      " 23%|████████████████████████████████████████████████                                                                                                                                                                     | 74.9M/332M [00:03<00:08, 30.1MB/s]\u001b[A\n",
      " 23%|█████████████████████████████████████████████████▉                                                                                                                                                                   | 77.8M/332M [00:03<00:09, 29.3MB/s]\u001b[A\n",
      " 24%|███████████████████████████████████████████████████▊                                                                                                                                                                 | 80.7M/332M [00:03<00:09, 29.2MB/s]\u001b[A\n",
      " 25%|█████████████████████████████████████████████████████▌                                                                                                                                                               | 83.5M/332M [00:03<00:09, 28.0MB/s]\u001b[A\n",
      " 26%|███████████████████████████████████████████████████████▍                                                                                                                                                             | 86.4M/332M [00:03<00:09, 28.2MB/s]\u001b[A\n",
      " 27%|█████████████████████████████████████████████████████████▏                                                                                                                                                           | 89.1M/332M [00:03<00:09, 26.7MB/s]\u001b[A\n",
      " 28%|██████████████████████████████████████████████████████████▉                                                                                                                                                          | 92.0M/332M [00:04<00:09, 27.4MB/s]\u001b[A\n",
      " 28%|████████████████████████████████████████████████████████████▋                                                                                                                                                        | 94.6M/332M [00:04<00:09, 25.3MB/s]\u001b[A\n",
      " 29%|██████████████████████████████████████████████████████████████▎                                                                                                                                                      | 97.1M/332M [00:04<00:14, 17.1MB/s]\u001b[A\n",
      " 30%|███████████████████████████████████████████████████████████████▌                                                                                                                                                     | 99.0M/332M [00:04<00:15, 15.8MB/s]\u001b[A\n",
      " 30%|████████████████████████████████████████████████████████████████▉                                                                                                                                                     | 101M/332M [00:04<00:17, 13.9MB/s]\u001b[A\n",
      " 31%|█████████████████████████████████████████████████████████████████▉                                                                                                                                                    | 102M/332M [00:04<00:18, 13.1MB/s]\u001b[A\n",
      " 32%|███████████████████████████████████████████████████████████████████▌                                                                                                                                                  | 105M/332M [00:05<00:14, 16.0MB/s]\u001b[A\n",
      " 32%|█████████████████████████████████████████████████████████████████████▏                                                                                                                                                | 107M/332M [00:05<00:13, 17.6MB/s]\u001b[A\n",
      " 33%|██████████████████████████████████████████████████████████████████████▋                                                                                                                                               | 110M/332M [00:05<00:11, 19.6MB/s]\u001b[A\n",
      " 34%|████████████████████████████████████████████████████████████████████████▌                                                                                                                                             | 113M/332M [00:05<00:10, 22.3MB/s]\u001b[A\n",
      " 35%|██████████████████████████████████████████████████████████████████████████▏                                                                                                                                           | 115M/332M [00:05<00:09, 22.9MB/s]\u001b[A\n",
      " 36%|███████████████████████████████████████████████████████████████████████████▉                                                                                                                                          | 118M/332M [00:05<00:09, 24.4MB/s]\u001b[A\n",
      " 36%|█████████████████████████████████████████████████████████████████████████████▋                                                                                                                                        | 121M/332M [00:05<00:08, 25.1MB/s]\u001b[A\n",
      " 37%|███████████████████████████████████████████████████████████████████████████████▌                                                                                                                                      | 124M/332M [00:05<00:08, 26.9MB/s]\u001b[A\n",
      " 38%|█████████████████████████████████████████████████████████████████████████████████▎                                                                                                                                    | 126M/332M [00:05<00:07, 27.2MB/s]\u001b[A\n",
      " 39%|███████████████████████████████████████████████████████████████████████████████████                                                                                                                                   | 129M/332M [00:06<00:07, 27.3MB/s]\u001b[A\n",
      " 40%|████████████████████████████████████████████████████████████████████████████████████▉                                                                                                                                 | 132M/332M [00:06<00:07, 28.3MB/s]\u001b[A\n",
      " 41%|██████████████████████████████████████████████████████████████████████████████████████▉                                                                                                                               | 135M/332M [00:06<00:07, 29.5MB/s]\u001b[A\n",
      " 41%|████████████████████████████████████████████████████████████████████████████████████████▋                                                                                                                             | 138M/332M [00:06<00:07, 26.7MB/s]\u001b[A\n",
      " 42%|██████████████████████████████████████████████████████████████████████████████████████████▍                                                                                                                           | 140M/332M [00:06<00:07, 26.0MB/s]\u001b[A\n",
      " 43%|████████████████████████████████████████████████████████████████████████████████████████████                                                                                                                          | 143M/332M [00:06<00:09, 20.2MB/s]\u001b[A\n",
      " 44%|█████████████████████████████████████████████████████████████████████████████████████████████▍                                                                                                                        | 145M/332M [00:06<00:11, 17.5MB/s]\u001b[A\n",
      " 44%|██████████████████████████████████████████████████████████████████████████████████████████████▌                                                                                                                       | 147M/332M [00:07<00:13, 14.2MB/s]\u001b[A\n",
      " 45%|████████████████████████████████████████████████████████████████████████████████████████████████                                                                                                                      | 149M/332M [00:07<00:11, 16.4MB/s]\u001b[A\n",
      " 46%|█████████████████████████████████████████████████████████████████████████████████████████████████▉                                                                                                                    | 152M/332M [00:07<00:09, 19.2MB/s]\u001b[A\n",
      " 47%|███████████████████████████████████████████████████████████████████████████████████████████████████▋                                                                                                                  | 155M/332M [00:07<00:08, 21.5MB/s]\u001b[A\n",
      " 47%|█████████████████████████████████████████████████████████████████████████████████████████████████████▍                                                                                                                | 158M/332M [00:07<00:07, 23.6MB/s]\u001b[A\n",
      " 48%|███████████████████████████████████████████████████████████████████████████████████████████████████████▍                                                                                                              | 160M/332M [00:07<00:07, 25.6MB/s]\u001b[A\n",
      " 49%|█████████████████████████████████████████████████████████████████████████████████████████████████████████▏                                                                                                            | 163M/332M [00:07<00:06, 26.6MB/s]\u001b[A\n",
      " 50%|██████████████████████████████████████████████████████████████████████████████████████████████████████████▉                                                                                                           | 166M/332M [00:07<00:06, 27.3MB/s]\u001b[A\n",
      " 51%|████████████████████████████████████████████████████████████████████████████████████████████████████████████▋                                                                                                         | 169M/332M [00:07<00:06, 27.4MB/s]\u001b[A\n",
      " 52%|██████████████████████████████████████████████████████████████████████████████████████████████████████████████▌                                                                                                       | 172M/332M [00:07<00:06, 27.1MB/s]\u001b[A\n",
      " 53%|████████████████████████████████████████████████████████████████████████████████████████████████████████████████▍                                                                                                     | 174M/332M [00:08<00:05, 27.9MB/s]\u001b[A\n",
      " 53%|██████████████████████████████████████████████████████████████████████████████████████████████████████████████████                                                                                                    | 177M/332M [00:08<00:05, 27.7MB/s]\u001b[A\n",
      " 54%|███████████████████████████████████████████████████████████████████████████████████████████████████████████████████▉                                                                                                  | 180M/332M [00:08<00:05, 28.1MB/s]\u001b[A\n",
      " 55%|█████████████████████████████████████████████████████████████████████████████████████████████████████████████████████▊                                                                                                | 183M/332M [00:08<00:05, 29.2MB/s]\u001b[A\n",
      " 56%|███████████████████████████████████████████████████████████████████████████████████████████████████████████████████████▋                                                                                              | 186M/332M [00:08<00:07, 19.4MB/s]\u001b[A\n",
      " 57%|█████████████████████████████████████████████████████████████████████████████████████████████████████████████████████████▍                                                                                            | 189M/332M [00:08<00:07, 21.4MB/s]\u001b[A\n",
      " 58%|███████████████████████████████████████████████████████████████████████████████████████████████████████████████████████████▍                                                                                          | 191M/332M [00:08<00:06, 23.7MB/s]\u001b[A\n",
      " 58%|█████████████████████████████████████████████████████████████████████████████████████████████████████████████████████████████                                                                                         | 194M/332M [00:08<00:06, 24.0MB/s]\u001b[A\n",
      " 59%|██████████████████████████████████████████████████████████████████████████████████████████████████████████████████████████████▋                                                                                       | 197M/332M [00:09<00:05, 24.9MB/s]\u001b[A\n",
      " 60%|████████████████████████████████████████████████████████████████████████████████████████████████████████████████████████████████▌                                                                                     | 200M/332M [00:09<00:05, 26.4MB/s]\u001b[A\n",
      " 61%|██████████████████████████████████████████████████████████████████████████████████████████████████████████████████████████████████▍                                                                                   | 202M/332M [00:09<00:05, 26.8MB/s]\u001b[A\n",
      " 62%|████████████████████████████████████████████████████████████████████████████████████████████████████████████████████████████████████▍                                                                                 | 205M/332M [00:09<00:04, 28.1MB/s]\u001b[A\n",
      " 63%|██████████████████████████████████████████████████████████████████████████████████████████████████████████████████████████████████████▎                                                                               | 208M/332M [00:09<00:04, 29.1MB/s]\u001b[A\n",
      " 64%|████████████████████████████████████████████████████████████████████████████████████████████████████████████████████████████████████████▏                                                                             | 211M/332M [00:09<00:04, 29.4MB/s]\u001b[A\n",
      " 64%|██████████████████████████████████████████████████████████████████████████████████████████████████████████████████████████████████████████                                                                            | 214M/332M [00:09<00:04, 29.1MB/s]\u001b[A\n",
      " 65%|███████████████████████████████████████████████████████████████████████████████████████████████████████████████████████████████████████████▊                                                                          | 217M/332M [00:09<00:04, 24.3MB/s]\u001b[A\n",
      " 66%|█████████████████████████████████████████████████████████████████████████████████████████████████████████████████████████████████████████████▍                                                                        | 219M/332M [00:10<00:06, 19.2MB/s]\u001b[A\n",
      " 67%|██████████████████████████████████████████████████████████████████████████████████████████████████████████████████████████████████████████████▊                                                                       | 222M/332M [00:10<00:07, 15.3MB/s]\u001b[A\n",
      " 67%|███████████████████████████████████████████████████████████████████████████████████████████████████████████████████████████████████████████████▊                                                                      | 223M/332M [00:10<00:08, 13.7MB/s]\u001b[A\n",
      " 68%|████████████████████████████████████████████████████████████████████████████████████████████████████████████████████████████████████████████████▉                                                                     | 225M/332M [00:10<00:07, 14.6MB/s]\u001b[A\n",
      " 69%|██████████████████████████████████████████████████████████████████████████████████████████████████████████████████████████████████████████████████▊                                                                   | 228M/332M [00:10<00:06, 17.7MB/s]\u001b[A\n",
      " 69%|████████████████████████████████████████████████████████████████████████████████████████████████████████████████████████████████████████████████████▏                                                                 | 230M/332M [00:10<00:05, 19.0MB/s]\u001b[A\n",
      " 70%|██████████████████████████████████████████████████████████████████████████████████████████████████████████████████████████████████████████████████████▏                                                               | 233M/332M [00:10<00:04, 22.2MB/s]\u001b[A\n",
      " 71%|███████████████████████████████████████████████████████████████████████████████████████████████████████████████████████████████████████████████████████▋                                                              | 235M/332M [00:10<00:04, 22.8MB/s]\u001b[A\n",
      " 72%|█████████████████████████████████████████████████████████████████████████████████████████████████████████████████████████████████████████████████████████▎                                                            | 238M/332M [00:11<00:04, 23.7MB/s]\u001b[A\n",
      " 72%|███████████████████████████████████████████████████████████████████████████████████████████████████████████████████████████████████████████████████████████                                                           | 241M/332M [00:11<00:03, 24.7MB/s]\u001b[A\n",
      " 73%|████████████████████████████████████████████████████████████████████████████████████████████████████████████████████████████████████████████████████████████▋                                                         | 243M/332M [00:11<00:03, 25.2MB/s]\u001b[A\n",
      " 74%|██████████████████████████████████████████████████████████████████████████████████████████████████████████████████████████████████████████████████████████████▎                                                       | 246M/332M [00:11<00:03, 24.4MB/s]\u001b[A\n",
      " 75%|███████████████████████████████████████████████████████████████████████████████████████████████████████████████████████████████████████████████████████████████▊                                                      | 248M/332M [00:11<00:03, 24.4MB/s]\u001b[A\n",
      " 76%|█████████████████████████████████████████████████████████████████████████████████████████████████████████████████████████████████████████████████████████████████▋                                                    | 251M/332M [00:11<00:03, 26.5MB/s]\u001b[A\n",
      " 76%|███████████████████████████████████████████████████████████████████████████████████████████████████████████████████████████████████████████████████████████████████▎                                                  | 254M/332M [00:11<00:03, 26.4MB/s]\u001b[A\n",
      " 77%|████████████████████████████████████████████████████████████████████████████████████████████████████████████████████████████████████████████████████████████████████▉                                                 | 256M/332M [00:11<00:03, 25.4MB/s]\u001b[A\n",
      " 78%|██████████████████████████████████████████████████████████████████████████████████████████████████████████████████████████████████████████████████████████████████████▋                                               | 259M/332M [00:11<00:02, 26.0MB/s]\u001b[A\n",
      " 79%|████████████████████████████████████████████████████████████████████████████████████████████████████████████████████████████████████████████████████████████████████████▌                                             | 262M/332M [00:12<00:02, 26.8MB/s]\u001b[A\n",
      " 80%|██████████████████████████████████████████████████████████████████████████████████████████████████████████████████████████████████████████████████████████████████████████▎                                           | 264M/332M [00:12<00:02, 27.7MB/s]\u001b[A\n",
      " 80%|████████████████████████████████████████████████████████████████████████████████████████████████████████████████████████████████████████████████████████████████████████████                                          | 267M/332M [00:12<00:02, 26.1MB/s]\u001b[A\n",
      " 81%|█████████████████████████████████████████████████████████████████████████████████████████████████████████████████████████████████████████████████████████████████████████████▊                                        | 270M/332M [00:12<00:02, 26.9MB/s]\u001b[A\n",
      " 82%|███████████████████████████████████████████████████████████████████████████████████████████████████████████████████████████████████████████████████████████████████████████████▌                                      | 272M/332M [00:12<00:02, 27.1MB/s]\u001b[A\n",
      " 83%|█████████████████████████████████████████████████████████████████████████████████████████████████████████████████████████████████████████████████████████████████████████████████▍                                    | 275M/332M [00:12<00:02, 28.2MB/s]\u001b[A\n",
      " 84%|███████████████████████████████████████████████████████████████████████████████████████████████████████████████████████████████████████████████████████████████████████████████████▎                                  | 278M/332M [00:12<00:01, 28.6MB/s]\u001b[A\n",
      " 85%|█████████████████████████████████████████████████████████████████████████████████████████████████████████████████████████████████████████████████████████████████████████████████████▏                                | 281M/332M [00:12<00:01, 28.8MB/s]\u001b[A\n",
      " 86%|██████████████████████████████████████████████████████████████████████████████████████████████████████████████████████████████████████████████████████████████████████████████████████▉                               | 284M/332M [00:12<00:01, 29.1MB/s]\u001b[A\n",
      " 86%|████████████████████████████████████████████████████████████████████████████████████████████████████████████████████████████████████████████████████████████████████████████████████████▊                             | 287M/332M [00:12<00:01, 28.2MB/s]\u001b[A\n",
      " 87%|██████████████████████████████████████████████████████████████████████████████████████████████████████████████████████████████████████████████████████████████████████████████████████████▊                           | 290M/332M [00:13<00:01, 29.4MB/s]\u001b[A\n",
      " 88%|████████████████████████████████████████████████████████████████████████████████████████████████████████████████████████████████████████████████████████████████████████████████████████████▋                         | 293M/332M [00:13<00:01, 29.3MB/s]\u001b[A\n",
      " 89%|██████████████████████████████████████████████████████████████████████████████████████████████████████████████████████████████████████████████████████████████████████████████████████████████▍                       | 296M/332M [00:13<00:01, 28.7MB/s]\u001b[A\n",
      " 90%|████████████████████████████████████████████████████████████████████████████████████████████████████████████████████████████████████████████████████████████████████████████████████████████████▎                     | 299M/332M [00:13<00:01, 29.3MB/s]\u001b[A\n",
      " 91%|██████████████████████████████████████████████████████████████████████████████████████████████████████████████████████████████████████████████████████████████████████████████████████████████████▎                   | 302M/332M [00:13<00:01, 30.1MB/s]\u001b[A\n",
      " 92%|████████████████████████████████████████████████████████████████████████████████████████████████████████████████████████████████████████████████████████████████████████████████████████████████████▏                 | 304M/332M [00:13<00:01, 28.8MB/s]\u001b[A\n",
      " 93%|█████████████████████████████████████████████████████████████████████████████████████████████████████████████████████████████████████████████████████████████████████████████████████████████████████▉                | 307M/332M [00:13<00:00, 27.9MB/s]\u001b[A\n",
      " 93%|███████████████████████████████████████████████████████████████████████████████████████████████████████████████████████████████████████████████████████████████████████████████████████████████████████▋              | 310M/332M [00:13<00:00, 27.3MB/s]\u001b[A\n",
      " 94%|█████████████████████████████████████████████████████████████████████████████████████████████████████████████████████████████████████████████████████████████████████████████████████████████████████████▌            | 313M/332M [00:13<00:00, 28.3MB/s]\u001b[A\n",
      " 95%|███████████████████████████████████████████████████████████████████████████████████████████████████████████████████████████████████████████████████████████████████████████████████████████████████████████▌          | 316M/332M [00:14<00:00, 29.0MB/s]\u001b[A\n",
      " 96%|█████████████████████████████████████████████████████████████████████████████████████████████████████████████████████████████████████████████████████████████████████████████████████████████████████████████▍        | 319M/332M [00:14<00:00, 29.7MB/s]\u001b[A\n",
      " 97%|███████████████████████████████████████████████████████████████████████████████████████████████████████████████████████████████████████████████████████████████████████████████████████████████████████████████▍      | 322M/332M [00:14<00:00, 30.4MB/s]\u001b[A\n",
      " 98%|█████████████████████████████████████████████████████████████████████████████████████████████████████████████████████████████████████████████████████████████████████████████████████████████████████████████████▎    | 325M/332M [00:14<00:00, 30.5MB/s]\u001b[A\n",
      " 99%|███████████████████████████████████████████████████████████████████████████████████████████████████████████████████████████████████████████████████████████████████████████████████████████████████████████████████▎  | 328M/332M [00:14<00:00, 31.3MB/s]\u001b[A\n",
      "100%|█████████████████████████████████████████████████████████████████████████████████████████████████████████████████████████████████████████████████████████████████████████████████████████████████████████████████████▎| 331M/332M [00:14<00:00, 29.7MB/s]\u001b[A\n",
      "334MB [00:14, 29.7MB/s]                                                                                                                                                                                                                                       \u001b[A\n",
      "337MB [00:14, 29.8MB/s]\u001b[A\n",
      "340MB [00:14, 29.8MB/s]\u001b[A\n",
      "                       \u001b[A"
     ]
    },
    {
     "name": "stdout",
     "output_type": "stream",
     "text": [
      "Found: S3A_OL_2_WRR____20210717T095732_20210717T104152_20210718T152419_2660_074_122______MAR_O_NT_003.SEN3\n",
      "Unzipping of product S3A_OL_2_WRR____20210717T095732_20210717T104152_20210718T152419_2660_074_122______MAR_O_NT_003.SEN3 finished.\n"
     ]
    },
    {
     "name": "stderr",
     "output_type": "stream",
     "text": [
      "                                                                                                                                                                                                                                                              \r"
     ]
    },
    {
     "name": "stdout",
     "output_type": "stream",
     "text": [
      "Found: S3A_OL_2_WFR____20210717T101015_20210717T101315_20210718T221347_0179_074_122_1980_MAR_O_NT_003.SEN3\n",
      "Unzipping of product S3A_OL_2_WFR____20210717T101015_20210717T101315_20210718T221347_0179_074_122_1980_MAR_O_NT_003.SEN3 finished.\n"
     ]
    }
   ],
   "source": [
    "for query in queries:\n",
    "    matches = c.search(query)\n",
    "    matches.download()\n",
    "    for match in matches.results:\n",
    "        fdst = match['filename']\n",
    "        print(f\"Found: {fdst}\")        \n",
    "        with zipfile.ZipFile(fdst, 'r') as zip_ref:\n",
    "            zip_ref.extractall(download_dir)\n",
    "            print(f'Unzipping of product {fdst} finished.')\n",
    "        os.remove(fdst)"
   ]
  },
  {
   "cell_type": "markdown",
   "metadata": {},
   "source": [
    "You can now continue to work through the rest of the notebooks in this repository and learn more about working with OLCI data."
   ]
  },
  {
   "cell_type": "markdown",
   "metadata": {},
   "source": [
    "<hr>\n",
    "<a href=\"../Index.ipynb\" target=\"_blank\"><< Index</a>\n",
    "<br>\n",
    "<a href=\"./1_2_OLCI_file_structure.ipynb\" target=\"_blank\">Understanding OLCI product structure >></a>\n",
    "<hr>\n",
    "\n",
    "<a href=\"https://gitlab.eumetsat.int/eumetlab/ocean\" target=\"_blank\">View on GitLab</a> | <a href=\"https://training.eumetsat.int/\" target=\"_blank\">EUMETSAT Training</a> | <a href=mailto:ops@eumetsat.int target=\"_blank\">Contact helpdesk for support </a> | <a href=mailto:Copernicus.training@eumetsat.int target=\"_blank\">Contact our training team to collaborate on and reuse this material</a></span></p>"
   ]
  }
 ],
 "metadata": {
  "author": "Ben Loveday, Hayley Evers-King",
  "description": "This Jupyter Notebook shows how to access Sentinel-3 Ocean and Land Colour Instrument (OLCI) data via the WEkEO catalogue using the Harmonised Data Access (HDA) adaptor.",
  "image": "../img/thumbs/1_1b_OLCI_data_access_HDA_thumb.png",
  "kernelspec": {
   "display_name": "Python 3 (ipykernel)",
   "language": "python",
   "name": "python3"
  },
  "language_info": {
   "codemirror_mode": {
    "name": "ipython",
    "version": 3
   },
   "file_extension": ".py",
   "mimetype": "text/x-python",
   "name": "python",
   "nbconvert_exporter": "python",
   "pygments_lexer": "ipython3",
   "version": "3.11.9"
  },
  "services": {
   "eumetsat": {
    "binder": {
     "link": "https://mybinder.org/v2/git/https%3A%2F%2Fgitlab.eumetsat.int%2Feumetlab%2Foceans%2Focean-training%2Fsensors%2Flearn-olci/HEAD?urlpath=%2Ftree%2F1_OLCI_introductory%2F1_1a_OLCI_data_access_Data_Store.ipynb",
     "service_contact": "ops@eumetsat.int",
     "service_provider": "EUMETSAT"
    },
    "git": {
     "link": "https://gitlab.eumetsat.int/eumetlab/oceans/ocean-training/sensors/learn-olci/-/blob/main/1_OLCI_introductory/1_1b_OLCI_data_access_HDA.ipynb",
     "service_contact": "ops@eumetsat.int",
     "service_provider": "EUMETSAT"
    }
   },
   "wekeo": {
    "git": {
     "link": "https://github.com/wekeo/learn-olci/blob/main/1_OLCI_introductory/1_1b_OLCI_data_access_HDA.ipynb",
     "service_contact": "ops@eumetsat.int",
     "service_provider": "EUMETSAT"
    },
    "url": {
     "link": "https://jupyterhub-wekeo.apps.eumetsat.dpi.wekeo.eu/hub/user-redirect/lab/tree/public/wekeo4oceans/learn-olci/1_OLCI_introductory/1_1b_OLCI_data_access_HDA.ipynb",
     "service_contact": "ops@eumetsat.int",
     "service_provider": "EUMETSAT"
    }
   }
  },
  "tags": {
   "domain": "Marine",
   "platform": [
    "Sentinel-3"
   ],
   "sensor": "OLCI",
   "service": "EUMETSAT",
   "subtheme": [
    "Ocean biogeochemistry",
    "Water quality",
    "Ocean fluxes"
   ],
   "tags": [
    "Top-of-atmosphere radiance",
    "Water leaving reflectance",
    "Chlorophyll concentration",
    "Photosynthetically active radiation",
    "Diffuse attentuation coefficient",
    "Coloured dissolved organic matter absorption coefficient",
    "Total suspended matter concentration",
    "Ocean colour"
   ]
  },
  "title": "Accessing Sentinel-3 OLCI data via the WEkEO HDA adaptor"
 },
 "nbformat": 4,
 "nbformat_minor": 4
}
