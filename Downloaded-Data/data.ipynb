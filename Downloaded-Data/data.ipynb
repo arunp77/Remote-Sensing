{
 "cells": [
  {
   "cell_type": "code",
   "execution_count": 1,
   "metadata": {},
   "outputs": [
    {
     "name": "stdout",
     "output_type": "stream",
     "text": [
      "Failed to download S-OSI_-FRA_-MTOP-GLBSST_FIELD-202405030000Z.zip from https://api.eumetsat.int/data/download/1.0.0/collections/EO%3AEUM%3ADAT%3AMETOP%3AGLB-SST-NC/products/S-OSI_-FRA_-MTOP-GLBSST_FIELD-202405030000Z\n",
      "Failed to download S-OSI_-FRA_-MTOP-GLBSST_FIELD-202405021200Z.zip from https://api.eumetsat.int/data/download/1.0.0/collections/EO%3AEUM%3ADAT%3AMETOP%3AGLB-SST-NC/products/S-OSI_-FRA_-MTOP-GLBSST_FIELD-202405021200Z\n",
      "Failed to download S-OSI_-FRA_-MTOP-GLBSST_FIELD-202405020000Z.zip from https://api.eumetsat.int/data/download/1.0.0/collections/EO%3AEUM%3ADAT%3AMETOP%3AGLB-SST-NC/products/S-OSI_-FRA_-MTOP-GLBSST_FIELD-202405020000Z\n",
      "Failed to download S-OSI_-FRA_-MTOP-GLBSST_FIELD-202405011200Z.zip from https://api.eumetsat.int/data/download/1.0.0/collections/EO%3AEUM%3ADAT%3AMETOP%3AGLB-SST-NC/products/S-OSI_-FRA_-MTOP-GLBSST_FIELD-202405011200Z\n",
      "Failed to download S-OSI_-FRA_-MTOP-GLBSST_FIELD-202405010000Z.zip from https://api.eumetsat.int/data/download/1.0.0/collections/EO%3AEUM%3ADAT%3AMETOP%3AGLB-SST-NC/products/S-OSI_-FRA_-MTOP-GLBSST_FIELD-202405010000Z\n",
      "Failed to download S-OSI_-FRA_-MTOP-GLBSST_FIELD-202404301200Z.zip from https://api.eumetsat.int/data/download/1.0.0/collections/EO%3AEUM%3ADAT%3AMETOP%3AGLB-SST-NC/products/S-OSI_-FRA_-MTOP-GLBSST_FIELD-202404301200Z\n",
      "Failed to download S-OSI_-FRA_-MTOP-GLBSST_FIELD-202404300000Z.zip from https://api.eumetsat.int/data/download/1.0.0/collections/EO%3AEUM%3ADAT%3AMETOP%3AGLB-SST-NC/products/S-OSI_-FRA_-MTOP-GLBSST_FIELD-202404300000Z\n",
      "Failed to download S-OSI_-FRA_-MTOP-GLBSST_FIELD-202404291200Z.zip from https://api.eumetsat.int/data/download/1.0.0/collections/EO%3AEUM%3ADAT%3AMETOP%3AGLB-SST-NC/products/S-OSI_-FRA_-MTOP-GLBSST_FIELD-202404291200Z\n",
      "Failed to download S-OSI_-FRA_-MTOP-GLBSST_FIELD-202404290000Z.zip from https://api.eumetsat.int/data/download/1.0.0/collections/EO%3AEUM%3ADAT%3AMETOP%3AGLB-SST-NC/products/S-OSI_-FRA_-MTOP-GLBSST_FIELD-202404290000Z\n",
      "Failed to download S-OSI_-FRA_-MTOP-GLBSST_FIELD-202404281200Z.zip from https://api.eumetsat.int/data/download/1.0.0/collections/EO%3AEUM%3ADAT%3AMETOP%3AGLB-SST-NC/products/S-OSI_-FRA_-MTOP-GLBSST_FIELD-202404281200Z\n",
      "Failed to download S-OSI_-FRA_-MTOP-GLBSST_FIELD-202404280000Z.zip from https://api.eumetsat.int/data/download/1.0.0/collections/EO%3AEUM%3ADAT%3AMETOP%3AGLB-SST-NC/products/S-OSI_-FRA_-MTOP-GLBSST_FIELD-202404280000Z\n",
      "Failed to download S-OSI_-FRA_-MTOP-GLBSST_FIELD-202404271200Z.zip from https://api.eumetsat.int/data/download/1.0.0/collections/EO%3AEUM%3ADAT%3AMETOP%3AGLB-SST-NC/products/S-OSI_-FRA_-MTOP-GLBSST_FIELD-202404271200Z\n",
      "Failed to download S-OSI_-FRA_-MTOP-GLBSST_FIELD-202404270000Z.zip from https://api.eumetsat.int/data/download/1.0.0/collections/EO%3AEUM%3ADAT%3AMETOP%3AGLB-SST-NC/products/S-OSI_-FRA_-MTOP-GLBSST_FIELD-202404270000Z\n",
      "Failed to download S-OSI_-FRA_-MTOP-GLBSST_FIELD-202404261200Z.zip from https://api.eumetsat.int/data/download/1.0.0/collections/EO%3AEUM%3ADAT%3AMETOP%3AGLB-SST-NC/products/S-OSI_-FRA_-MTOP-GLBSST_FIELD-202404261200Z\n",
      "Failed to download S-OSI_-FRA_-MTOP-GLBSST_FIELD-202404260000Z.zip from https://api.eumetsat.int/data/download/1.0.0/collections/EO%3AEUM%3ADAT%3AMETOP%3AGLB-SST-NC/products/S-OSI_-FRA_-MTOP-GLBSST_FIELD-202404260000Z\n",
      "Failed to download S-OSI_-FRA_-MTOP-GLBSST_FIELD-202404251200Z.zip from https://api.eumetsat.int/data/download/1.0.0/collections/EO%3AEUM%3ADAT%3AMETOP%3AGLB-SST-NC/products/S-OSI_-FRA_-MTOP-GLBSST_FIELD-202404251200Z\n",
      "Failed to download S-OSI_-FRA_-MTOP-GLBSST_FIELD-202404250000Z.zip from https://api.eumetsat.int/data/download/1.0.0/collections/EO%3AEUM%3ADAT%3AMETOP%3AGLB-SST-NC/products/S-OSI_-FRA_-MTOP-GLBSST_FIELD-202404250000Z\n",
      "Failed to download S-OSI_-FRA_-MTOP-GLBSST_FIELD-202404241200Z.zip from https://api.eumetsat.int/data/download/1.0.0/collections/EO%3AEUM%3ADAT%3AMETOP%3AGLB-SST-NC/products/S-OSI_-FRA_-MTOP-GLBSST_FIELD-202404241200Z\n",
      "Failed to download S-OSI_-FRA_-MTOP-GLBSST_FIELD-202404240000Z.zip from https://api.eumetsat.int/data/download/1.0.0/collections/EO%3AEUM%3ADAT%3AMETOP%3AGLB-SST-NC/products/S-OSI_-FRA_-MTOP-GLBSST_FIELD-202404240000Z\n",
      "Failed to download S-OSI_-FRA_-MTOP-GLBSST_FIELD-202404231200Z.zip from https://api.eumetsat.int/data/download/1.0.0/collections/EO%3AEUM%3ADAT%3AMETOP%3AGLB-SST-NC/products/S-OSI_-FRA_-MTOP-GLBSST_FIELD-202404231200Z\n",
      "Failed to download S3A_OL_2_WFR____20210428T234456_20210428T234544_20220308T090012_0047_071_144______MAR_R_NT_003.SEN3.zip from https://api.eumetsat.int/data/download/1.0.0/collections/EO%3AEUM%3ADAT%3A0556/products/S3A_OL_2_WFR____20210428T234456_20210428T234544_20220308T090012_0047_071_144______MAR_R_NT_003.SEN3\n",
      "Failed to download S3A_OL_2_WFR____20210428T234156_20210428T234456_20220308T100436_0180_071_144______MAR_R_NT_003.SEN3.zip from https://api.eumetsat.int/data/download/1.0.0/collections/EO%3AEUM%3ADAT%3A0556/products/S3A_OL_2_WFR____20210428T234156_20210428T234456_20220308T100436_0180_071_144______MAR_R_NT_003.SEN3\n",
      "Failed to download S3A_OL_2_WFR____20210428T233856_20210428T234156_20220308T095519_0179_071_144______MAR_R_NT_003.SEN3.zip from https://api.eumetsat.int/data/download/1.0.0/collections/EO%3AEUM%3ADAT%3A0556/products/S3A_OL_2_WFR____20210428T233856_20210428T234156_20220308T095519_0179_071_144______MAR_R_NT_003.SEN3\n",
      "Failed to download S3A_OL_2_WFR____20210428T233556_20210428T233856_20220308T100438_0180_071_144______MAR_R_NT_003.SEN3.zip from https://api.eumetsat.int/data/download/1.0.0/collections/EO%3AEUM%3ADAT%3A0556/products/S3A_OL_2_WFR____20210428T233556_20210428T233856_20220308T100438_0180_071_144______MAR_R_NT_003.SEN3\n",
      "Failed to download S3A_OL_2_WFR____20210428T233256_20210428T233556_20220308T084826_0179_071_144______MAR_R_NT_003.SEN3.zip from https://api.eumetsat.int/data/download/1.0.0/collections/EO%3AEUM%3ADAT%3A0556/products/S3A_OL_2_WFR____20210428T233256_20210428T233556_20220308T084826_0179_071_144______MAR_R_NT_003.SEN3\n",
      "Failed to download S3A_OL_2_WFR____20210428T232956_20210428T233256_20220308T083036_0180_071_144______MAR_R_NT_003.SEN3.zip from https://api.eumetsat.int/data/download/1.0.0/collections/EO%3AEUM%3ADAT%3A0556/products/S3A_OL_2_WFR____20210428T232956_20210428T233256_20220308T083036_0180_071_144______MAR_R_NT_003.SEN3\n",
      "Failed to download S3A_OL_2_WFR____20210428T232656_20210428T232956_20220308T084629_0180_071_144______MAR_R_NT_003.SEN3.zip from https://api.eumetsat.int/data/download/1.0.0/collections/EO%3AEUM%3ADAT%3A0556/products/S3A_OL_2_WFR____20210428T232656_20210428T232956_20220308T084629_0180_071_144______MAR_R_NT_003.SEN3\n",
      "Failed to download S3A_OL_2_WFR____20210428T232356_20210428T232656_20220308T101054_0179_071_144______MAR_R_NT_003.SEN3.zip from https://api.eumetsat.int/data/download/1.0.0/collections/EO%3AEUM%3ADAT%3A0556/products/S3A_OL_2_WFR____20210428T232356_20210428T232656_20220308T101054_0179_071_144______MAR_R_NT_003.SEN3\n",
      "Failed to download S3A_OL_2_WFR____20210428T232056_20210428T232356_20220308T095625_0180_071_144______MAR_R_NT_003.SEN3.zip from https://api.eumetsat.int/data/download/1.0.0/collections/EO%3AEUM%3ADAT%3A0556/products/S3A_OL_2_WFR____20210428T232056_20210428T232356_20220308T095625_0180_071_144______MAR_R_NT_003.SEN3\n",
      "Failed to download S3A_OL_2_WFR____20210428T231756_20210428T232056_20220308T085553_0179_071_144______MAR_R_NT_003.SEN3.zip from https://api.eumetsat.int/data/download/1.0.0/collections/EO%3AEUM%3ADAT%3A0556/products/S3A_OL_2_WFR____20210428T231756_20210428T232056_20220308T085553_0179_071_144______MAR_R_NT_003.SEN3\n",
      "Failed to download S3A_OL_2_WFR____20210428T231456_20210428T231756_20220308T084526_0180_071_144______MAR_R_NT_003.SEN3.zip from https://api.eumetsat.int/data/download/1.0.0/collections/EO%3AEUM%3ADAT%3A0556/products/S3A_OL_2_WFR____20210428T231456_20210428T231756_20220308T084526_0180_071_144______MAR_R_NT_003.SEN3\n",
      "Failed to download S3A_OL_2_WFR____20210428T231156_20210428T231456_20220308T095025_0179_071_144______MAR_R_NT_003.SEN3.zip from https://api.eumetsat.int/data/download/1.0.0/collections/EO%3AEUM%3ADAT%3A0556/products/S3A_OL_2_WFR____20210428T231156_20210428T231456_20220308T095025_0179_071_144______MAR_R_NT_003.SEN3\n",
      "Failed to download S3A_OL_2_WFR____20210428T230856_20210428T231156_20220308T083613_0180_071_144______MAR_R_NT_003.SEN3.zip from https://api.eumetsat.int/data/download/1.0.0/collections/EO%3AEUM%3ADAT%3A0556/products/S3A_OL_2_WFR____20210428T230856_20210428T231156_20220308T083613_0180_071_144______MAR_R_NT_003.SEN3\n",
      "Failed to download S3A_OL_2_WFR____20210428T230556_20210428T230856_20220308T094807_0179_071_144______MAR_R_NT_003.SEN3.zip from https://api.eumetsat.int/data/download/1.0.0/collections/EO%3AEUM%3ADAT%3A0556/products/S3A_OL_2_WFR____20210428T230556_20210428T230856_20220308T094807_0179_071_144______MAR_R_NT_003.SEN3\n",
      "Failed to download S3A_OL_2_WFR____20210428T230256_20210428T230556_20220308T100906_0180_071_144______MAR_R_NT_003.SEN3.zip from https://api.eumetsat.int/data/download/1.0.0/collections/EO%3AEUM%3ADAT%3A0556/products/S3A_OL_2_WFR____20210428T230256_20210428T230556_20220308T100906_0180_071_144______MAR_R_NT_003.SEN3\n",
      "Failed to download S3A_OL_2_WFR____20210428T230125_20210428T230256_20220308T090619_0091_071_144______MAR_R_NT_003.SEN3.zip from https://api.eumetsat.int/data/download/1.0.0/collections/EO%3AEUM%3ADAT%3A0556/products/S3A_OL_2_WFR____20210428T230125_20210428T230256_20220308T090619_0091_071_144______MAR_R_NT_003.SEN3\n",
      "Failed to download S3A_OL_2_WFR____20210428T220357_20210428T220445_20220308T093757_0048_071_143______MAR_R_NT_003.SEN3.zip from https://api.eumetsat.int/data/download/1.0.0/collections/EO%3AEUM%3ADAT%3A0556/products/S3A_OL_2_WFR____20210428T220357_20210428T220445_20220308T093757_0048_071_143______MAR_R_NT_003.SEN3\n",
      "Failed to download S3A_OL_2_WFR____20210428T220057_20210428T220357_20220308T092428_0179_071_143______MAR_R_NT_003.SEN3.zip from https://api.eumetsat.int/data/download/1.0.0/collections/EO%3AEUM%3ADAT%3A0556/products/S3A_OL_2_WFR____20210428T220057_20210428T220357_20220308T092428_0179_071_143______MAR_R_NT_003.SEN3\n",
      "Failed to download S3A_OL_2_WFR____20210428T215757_20210428T220057_20220308T084804_0180_071_143______MAR_R_NT_003.SEN3.zip from https://api.eumetsat.int/data/download/1.0.0/collections/EO%3AEUM%3ADAT%3A0556/products/S3A_OL_2_WFR____20210428T215757_20210428T220057_20220308T084804_0180_071_143______MAR_R_NT_003.SEN3\n",
      "Failed to download S3A_OL_2_WFR____20210428T215457_20210428T215757_20220308T094922_0180_071_143______MAR_R_NT_003.SEN3.zip from https://api.eumetsat.int/data/download/1.0.0/collections/EO%3AEUM%3ADAT%3A0556/products/S3A_OL_2_WFR____20210428T215457_20210428T215757_20220308T094922_0180_071_143______MAR_R_NT_003.SEN3\n"
     ]
    }
   ],
   "source": [
    "import requests\n",
    "import xml.etree.ElementTree as ET\n",
    "\n",
    "# Read the XML content from the file\n",
    "with open('cart-arunp77.xml', 'r') as file:\n",
    "    xml_content = file.read()\n",
    "\n",
    "# Parse the XML content\n",
    "namespace = {'ml': 'urn:ietf:params:xml:ns:metalink'}\n",
    "root = ET.fromstring(xml_content)\n",
    "\n",
    "# Iterate over each file element in the XML\n",
    "for file_element in root.findall('ml:file', namespace):\n",
    "    file_name = file_element.get('name')\n",
    "    url_element = file_element.find('ml:url', namespace)\n",
    "    \n",
    "    if url_element is not None:\n",
    "        file_url = url_element.text\n",
    "        \n",
    "        # Download the file\n",
    "        response = requests.get(file_url)\n",
    "        \n",
    "        if response.status_code == 200:\n",
    "            # Save the file\n",
    "            with open(file_name, 'wb') as file:\n",
    "                file.write(response.content)\n",
    "            print(f\"Downloaded and saved: {file_name}\")\n",
    "        else:\n",
    "            print(f\"Failed to download {file_name} from {file_url}\")\n",
    "\n"
   ]
  },
  {
   "cell_type": "code",
   "execution_count": null,
   "metadata": {},
   "outputs": [],
   "source": []
  }
 ],
 "metadata": {
  "kernelspec": {
   "display_name": "env",
   "language": "python",
   "name": "python3"
  },
  "language_info": {
   "codemirror_mode": {
    "name": "ipython",
    "version": 3
   },
   "file_extension": ".py",
   "mimetype": "text/x-python",
   "name": "python",
   "nbconvert_exporter": "python",
   "pygments_lexer": "ipython3",
   "version": "3.11.9"
  }
 },
 "nbformat": 4,
 "nbformat_minor": 2
}
